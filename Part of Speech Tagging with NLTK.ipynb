{
 "cells": [
  {
   "cell_type": "markdown",
   "id": "2f1ce41e",
   "metadata": {},
   "source": [
    "### Part speech tagging is important in natural language processing, this is a process of assigning grammatical category  such  as noun , verb, adjective, adverb, etc. to each word in a sentence or text."
   ]
  },
  {
   "cell_type": "raw",
   "id": "48ddb62c",
   "metadata": {},
   "source": [
    "Common POS Tags from the Penn Treebank\n",
    "\n",
    "Tag     Description\n",
    "CC\t Coordinating conjunction\n",
    "CD\t Cardinal number\n",
    "DT\t Determiner\n",
    "EX\t Existential there\n",
    "FW\t Foreign word\n",
    "IN\t Preposition or subordinating conjunction\n",
    "JJ\t Adjective\n",
    "JR\t Adjective, comparative\n",
    "JJS\t Adjective, superlative\n",
    "LS\t List item marker\n",
    "MD\t Modal\n",
    "NN\t Noun, singular or mass\n",
    "NNS  Noun, plural\n",
    "NNP\t Proper noun, singular\n",
    "NNPS Proper noun, plural\n",
    "PDT\t Predeterminer\n",
    "POS\t Possessive ending\n",
    "PRP\t Personal pronoun\n",
    "PRP$ Possessive pronoun\n",
    "RB\t Adverb\n",
    "RBR\t Adverb, comparative\n",
    "RBS\t Adverb, superlative\n",
    "RP\t Particle\n",
    "SYM\t Symbol\n",
    "TO\t to\n",
    "UH\t Interjection\n",
    "VB\t Verb, base form\n",
    "VBD\t Verb, past tense\n",
    "VBG\t Verb, gerund or present participle\n",
    "VBN\t Verb, past participle\n",
    "VBP\t Verb, non-3rd person singular present\n",
    "VBZ\t Verb, 3rd person singular present\n",
    "WDT\t Wh-determiner\n",
    "WP\t Wh-pronoun\n",
    "WP$\t Possessive wh-pronoun\n",
    "WRB\t Wh-adverb"
   ]
  },
  {
   "cell_type": "code",
   "execution_count": 3,
   "id": "1aff753e",
   "metadata": {},
   "outputs": [
    {
     "name": "stderr",
     "output_type": "stream",
     "text": [
      "[nltk_data] Downloading package punkt to\n",
      "[nltk_data]     C:\\Users\\marie\\AppData\\Roaming\\nltk_data...\n",
      "[nltk_data]   Package punkt is already up-to-date!\n"
     ]
    },
    {
     "data": {
      "text/plain": [
       "['We',\n",
       " 'saw',\n",
       " 'a',\n",
       " 'large',\n",
       " 'crowd',\n",
       " 'at',\n",
       " 'the',\n",
       " 'bustop',\n",
       " 'in',\n",
       " 'the',\n",
       " 'evening',\n",
       " 'yesterday',\n",
       " '.',\n",
       " 'We',\n",
       " 'sent',\n",
       " 'him',\n",
       " 'all',\n",
       " 'his',\n",
       " 'personal',\n",
       " 'effects',\n",
       " 'before',\n",
       " 'March',\n",
       " 'last',\n",
       " 'year',\n",
       " '.']"
      ]
     },
     "execution_count": 3,
     "metadata": {},
     "output_type": "execute_result"
    }
   ],
   "source": [
    "import nltk\n",
    "nltk.download('punkt')\n",
    "\n",
    "sentence = \"We saw a large crowd at the bustop in the evening yesterday. We sent him all his personal effects before March last year.\"\n",
    "tokens = nltk.word_tokenize(sentence)\n",
    "tokens"
   ]
  },
  {
   "cell_type": "code",
   "execution_count": 4,
   "id": "2d2cdf5f",
   "metadata": {},
   "outputs": [
    {
     "name": "stderr",
     "output_type": "stream",
     "text": [
      "[nltk_data] Downloading package averaged_perceptron_tagger to\n",
      "[nltk_data]     C:\\Users\\marie\\AppData\\Roaming\\nltk_data...\n",
      "[nltk_data]   Package averaged_perceptron_tagger is already up-to-\n",
      "[nltk_data]       date!\n"
     ]
    },
    {
     "data": {
      "text/plain": [
       "True"
      ]
     },
     "execution_count": 4,
     "metadata": {},
     "output_type": "execute_result"
    }
   ],
   "source": [
    "nltk.download('averaged_perceptron_tagger')"
   ]
  },
  {
   "cell_type": "code",
   "execution_count": 5,
   "id": "8d599cff",
   "metadata": {},
   "outputs": [
    {
     "data": {
      "text/plain": [
       "[('We', 'PRP'),\n",
       " ('saw', 'VBD'),\n",
       " ('a', 'DT'),\n",
       " ('large', 'JJ'),\n",
       " ('crowd', 'NN'),\n",
       " ('at', 'IN'),\n",
       " ('the', 'DT'),\n",
       " ('bustop', 'NN'),\n",
       " ('in', 'IN'),\n",
       " ('the', 'DT'),\n",
       " ('evening', 'NN'),\n",
       " ('yesterday', 'NN'),\n",
       " ('.', '.'),\n",
       " ('We', 'PRP'),\n",
       " ('sent', 'VBD'),\n",
       " ('him', 'PRP'),\n",
       " ('all', 'PDT'),\n",
       " ('his', 'PRP$'),\n",
       " ('personal', 'JJ'),\n",
       " ('effects', 'NNS'),\n",
       " ('before', 'IN'),\n",
       " ('March', 'NNP'),\n",
       " ('last', 'JJ'),\n",
       " ('year', 'NN'),\n",
       " ('.', '.')]"
      ]
     },
     "execution_count": 5,
     "metadata": {},
     "output_type": "execute_result"
    }
   ],
   "source": [
    "text = nltk.Text(tokens)\n",
    "nltk.pos_tag(text)"
   ]
  },
  {
   "cell_type": "code",
   "execution_count": 9,
   "id": "38c85e71",
   "metadata": {},
   "outputs": [],
   "source": [
    "text = \"I saw the boy today\""
   ]
  },
  {
   "cell_type": "code",
   "execution_count": 10,
   "id": "d2c55971",
   "metadata": {},
   "outputs": [
    {
     "data": {
      "text/plain": [
       "['We',\n",
       " 'saw',\n",
       " 'a',\n",
       " 'large',\n",
       " 'crowd',\n",
       " 'at',\n",
       " 'the',\n",
       " 'bustop',\n",
       " 'in',\n",
       " 'the',\n",
       " 'evening',\n",
       " 'yesterday',\n",
       " '.',\n",
       " 'We',\n",
       " 'sent',\n",
       " 'him',\n",
       " 'all',\n",
       " 'his',\n",
       " 'personal',\n",
       " 'effects',\n",
       " 'before',\n",
       " 'March',\n",
       " 'last',\n",
       " 'year',\n",
       " '.']"
      ]
     },
     "execution_count": 10,
     "metadata": {},
     "output_type": "execute_result"
    }
   ],
   "source": [
    "token = nltk.word_tokenize(text)\n",
    "tokens"
   ]
  },
  {
   "cell_type": "code",
   "execution_count": 11,
   "id": "d0804ab1",
   "metadata": {},
   "outputs": [],
   "source": [
    "x = \"I saw the boy today\""
   ]
  },
  {
   "cell_type": "code",
   "execution_count": 12,
   "id": "82e3b751",
   "metadata": {},
   "outputs": [
    {
     "data": {
      "text/plain": [
       "['I', 'saw', 'the', 'boy', 'today']"
      ]
     },
     "execution_count": 12,
     "metadata": {},
     "output_type": "execute_result"
    }
   ],
   "source": [
    "y = nltk.word_tokenize(x)\n",
    "y"
   ]
  },
  {
   "cell_type": "code",
   "execution_count": 14,
   "id": "331f9ba5",
   "metadata": {},
   "outputs": [
    {
     "data": {
      "text/plain": [
       "[('I', 'PRP'), ('saw', 'VBD'), ('the', 'DT'), ('boy', 'NN'), ('today', 'NN')]"
      ]
     },
     "execution_count": 14,
     "metadata": {},
     "output_type": "execute_result"
    }
   ],
   "source": [
    "x = nltk.Text(y)\n",
    "nltk.pos_tag(x)"
   ]
  },
  {
   "cell_type": "code",
   "execution_count": null,
   "id": "0a2b70ad",
   "metadata": {},
   "outputs": [],
   "source": []
  }
 ],
 "metadata": {
  "kernelspec": {
   "display_name": "Python 3 (ipykernel)",
   "language": "python",
   "name": "python3"
  },
  "language_info": {
   "codemirror_mode": {
    "name": "ipython",
    "version": 3
   },
   "file_extension": ".py",
   "mimetype": "text/x-python",
   "name": "python",
   "nbconvert_exporter": "python",
   "pygments_lexer": "ipython3",
   "version": "3.11.7"
  }
 },
 "nbformat": 4,
 "nbformat_minor": 5
}
